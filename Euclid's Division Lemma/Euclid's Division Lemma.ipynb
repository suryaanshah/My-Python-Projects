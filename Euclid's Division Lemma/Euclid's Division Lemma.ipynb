{
  "nbformat": 4,
  "nbformat_minor": 0,
  "metadata": {
    "colab": {
      "name": "Untitled0.ipynb",
      "provenance": []
    },
    "kernelspec": {
      "name": "python3",
      "display_name": "Python 3"
    },
    "language_info": {
      "name": "python"
    }
  },
  "cells": [
    {
      "cell_type": "markdown",
      "metadata": {
        "id": "1fkNjVSEyCbC"
      },
      "source": [
        "# Algorithm\n",
        "1. Take 2 integers\n",
        "2. See the higher integer.\n",
        "3. Put the higher one before the '='.\n",
        "4. then put the smaller after the '='.\n",
        "5. If they are equal, say that the no. are it's H.C.F.\n",
        "6. print(larger int = smaller int * some no. + the reaminder)\n",
        "7. repeat step 6 until r=0\n",
        "8. when r=0, the devisor is the H.C.F."
      ]
    },
    {
      "cell_type": "code",
      "metadata": {
        "id": "UtZsDwvSx_ZX"
      },
      "source": [
        "devident=input(\"Enter the devident: \")\n",
        "devisor=input(\"Enter the devisor: \")\t\n",
        "r = int(devident) % int(devisor)\n",
        "q = int(devident) // int(devisor)\n",
        "print(str(devident),\"=\", str(devisor),\"×\",str(q),\"+\",str(r))\n"
      ],
      "execution_count": null,
      "outputs": []
    },
    {
      "cell_type": "markdown",
      "metadata": {
        "id": "G00KmrONyIGi"
      },
      "source": [
        "# Lessons Learnt\n",
        "* Foucs on making the most basic version of the project first. Don't go for advanced stuff in the beginning.\n",
        "* Errors are a significant part of programming."
      ]
    }
  ]
}
